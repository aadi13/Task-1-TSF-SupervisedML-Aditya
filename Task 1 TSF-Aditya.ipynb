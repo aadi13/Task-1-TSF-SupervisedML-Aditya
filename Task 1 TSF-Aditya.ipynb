{
 "cells": [
  {
   "cell_type": "markdown",
   "id": "english-mixer",
   "metadata": {},
   "source": [
    "Author : Aditya Ingle\n",
    "Organisation : The Sparks Foundation"
   ]
  },
  {
   "cell_type": "markdown",
   "id": "published-forward",
   "metadata": {},
   "source": [
    "To Predict the percentage of marks of an student based on the number of study hours."
   ]
  },
  {
   "cell_type": "markdown",
   "id": "chemical-sixth",
   "metadata": {},
   "source": [
    "First off Importing the libraries and Dataset"
   ]
  },
  {
   "cell_type": "code",
   "execution_count": 59,
   "id": "important-salem",
   "metadata": {},
   "outputs": [],
   "source": [
    "import numpy as np\n",
    "import pandas as pd\n",
    "import matplotlib.pyplot as plt\n",
    "import seaborn as sns"
   ]
  },
  {
   "cell_type": "markdown",
   "id": "worth-highway",
   "metadata": {},
   "source": [
    "#Reading dataset"
   ]
  },
  {
   "cell_type": "code",
   "execution_count": 60,
   "id": "collaborative-genome",
   "metadata": {},
   "outputs": [],
   "source": [
    "df = pd.read_csv('https://raw.githubusercontent.com/AdiPersonalWorks/Random/master/student_scores%20-%20student_scores.csv')"
   ]
  },
  {
   "cell_type": "code",
   "execution_count": 61,
   "id": "offshore-leader",
   "metadata": {
    "scrolled": true
   },
   "outputs": [
    {
     "data": {
      "text/html": [
       "<div>\n",
       "<style scoped>\n",
       "    .dataframe tbody tr th:only-of-type {\n",
       "        vertical-align: middle;\n",
       "    }\n",
       "\n",
       "    .dataframe tbody tr th {\n",
       "        vertical-align: top;\n",
       "    }\n",
       "\n",
       "    .dataframe thead th {\n",
       "        text-align: right;\n",
       "    }\n",
       "</style>\n",
       "<table border=\"1\" class=\"dataframe\">\n",
       "  <thead>\n",
       "    <tr style=\"text-align: right;\">\n",
       "      <th></th>\n",
       "      <th>Hours</th>\n",
       "      <th>Scores</th>\n",
       "    </tr>\n",
       "  </thead>\n",
       "  <tbody>\n",
       "    <tr>\n",
       "      <th>0</th>\n",
       "      <td>2.5</td>\n",
       "      <td>21</td>\n",
       "    </tr>\n",
       "    <tr>\n",
       "      <th>1</th>\n",
       "      <td>5.1</td>\n",
       "      <td>47</td>\n",
       "    </tr>\n",
       "    <tr>\n",
       "      <th>2</th>\n",
       "      <td>3.2</td>\n",
       "      <td>27</td>\n",
       "    </tr>\n",
       "    <tr>\n",
       "      <th>3</th>\n",
       "      <td>8.5</td>\n",
       "      <td>75</td>\n",
       "    </tr>\n",
       "    <tr>\n",
       "      <th>4</th>\n",
       "      <td>3.5</td>\n",
       "      <td>30</td>\n",
       "    </tr>\n",
       "    <tr>\n",
       "      <th>5</th>\n",
       "      <td>1.5</td>\n",
       "      <td>20</td>\n",
       "    </tr>\n",
       "    <tr>\n",
       "      <th>6</th>\n",
       "      <td>9.2</td>\n",
       "      <td>88</td>\n",
       "    </tr>\n",
       "    <tr>\n",
       "      <th>7</th>\n",
       "      <td>5.5</td>\n",
       "      <td>60</td>\n",
       "    </tr>\n",
       "    <tr>\n",
       "      <th>8</th>\n",
       "      <td>8.3</td>\n",
       "      <td>81</td>\n",
       "    </tr>\n",
       "    <tr>\n",
       "      <th>9</th>\n",
       "      <td>2.7</td>\n",
       "      <td>25</td>\n",
       "    </tr>\n",
       "  </tbody>\n",
       "</table>\n",
       "</div>"
      ],
      "text/plain": [
       "   Hours  Scores\n",
       "0    2.5      21\n",
       "1    5.1      47\n",
       "2    3.2      27\n",
       "3    8.5      75\n",
       "4    3.5      30\n",
       "5    1.5      20\n",
       "6    9.2      88\n",
       "7    5.5      60\n",
       "8    8.3      81\n",
       "9    2.7      25"
      ]
     },
     "execution_count": 61,
     "metadata": {},
     "output_type": "execute_result"
    }
   ],
   "source": [
    "df.head(10)"
   ]
  },
  {
   "cell_type": "markdown",
   "id": "returning-engineer",
   "metadata": {},
   "source": [
    "#To Visualize and Analyze the imported Dataset (Check null values)"
   ]
  },
  {
   "cell_type": "code",
   "execution_count": 62,
   "id": "neither-visibility",
   "metadata": {},
   "outputs": [
    {
     "name": "stdout",
     "output_type": "stream",
     "text": [
      "(25, 2)\n"
     ]
    }
   ],
   "source": [
    "print(df.shape)\n"
   ]
  },
  {
   "cell_type": "code",
   "execution_count": 63,
   "id": "private-swiss",
   "metadata": {},
   "outputs": [],
   "source": [
    "hours = df['Hours']\n",
    "scores = df['Scores']"
   ]
  },
  {
   "cell_type": "code",
   "execution_count": 64,
   "id": "electric-universe",
   "metadata": {},
   "outputs": [
    {
     "data": {
      "text/plain": [
       "<AxesSubplot:xlabel='Hours', ylabel='Count'>"
      ]
     },
     "execution_count": 64,
     "metadata": {},
     "output_type": "execute_result"
    },
    {
     "data": {
      "image/png": "[encoded data removed]",
      "text/plain": [
       "<Figure size 432x288 with 1 Axes>"
      ]
     },
     "metadata": {
      "needs_background": "light"
     },
     "output_type": "display_data"
    }
   ],
   "source": [
    "sns.histplot(hours)"
   ]
  },
  {
   "cell_type": "code",
   "execution_count": 65,
   "id": "organic-familiar",
   "metadata": {},
   "outputs": [
    {
     "data": {
      "text/plain": [
       "<AxesSubplot:xlabel='Scores', ylabel='Count'>"
      ]
     },
     "execution_count": 65,
     "metadata": {},
     "output_type": "execute_result"
    },
    {
     "data": {
      "image/png": "[encoded data removed]",
      "text/plain": [
       "<Figure size 432x288 with 1 Axes>"
      ]
     },
     "metadata": {
      "needs_background": "light"
     },
     "output_type": "display_data"
    }
   ],
   "source": [
    "sns.histplot(scores)"
   ]
  },
  {
   "cell_type": "code",
   "execution_count": 66,
   "id": "sunrise-straight",
   "metadata": {},
   "outputs": [
    {
     "data": {
      "text/html": [
       "<div>\n",
       "<style scoped>\n",
       "    .dataframe tbody tr th:only-of-type {\n",
       "        vertical-align: middle;\n",
       "    }\n",
       "\n",
       "    .dataframe tbody tr th {\n",
       "        vertical-align: top;\n",
       "    }\n",
       "\n",
       "    .dataframe thead th {\n",
       "        text-align: right;\n",
       "    }\n",
       "</style>\n",
       "<table border=\"1\" class=\"dataframe\">\n",
       "  <thead>\n",
       "    <tr style=\"text-align: right;\">\n",
       "      <th></th>\n",
       "      <th>Hours</th>\n",
       "      <th>Scores</th>\n",
       "    </tr>\n",
       "  </thead>\n",
       "  <tbody>\n",
       "    <tr>\n",
       "      <th>Hours</th>\n",
       "      <td>1.000000</td>\n",
       "      <td>0.976191</td>\n",
       "    </tr>\n",
       "    <tr>\n",
       "      <th>Scores</th>\n",
       "      <td>0.976191</td>\n",
       "      <td>1.000000</td>\n",
       "    </tr>\n",
       "  </tbody>\n",
       "</table>\n",
       "</div>"
      ],
      "text/plain": [
       "           Hours    Scores\n",
       "Hours   1.000000  0.976191\n",
       "Scores  0.976191  1.000000"
      ]
     },
     "execution_count": 66,
     "metadata": {},
     "output_type": "execute_result"
    }
   ],
   "source": [
    "df.corr()"
   ]
  },
  {
   "cell_type": "code",
   "execution_count": 67,
   "id": "duplicate-newark",
   "metadata": {},
   "outputs": [],
   "source": [
    "#Here we establish that the two variables are strongly correlated"
   ]
  },
  {
   "cell_type": "markdown",
   "id": "distinct-precipitation",
   "metadata": {},
   "source": [
    "#Now To Split the Data for Testing and Training "
   ]
  },
  {
   "cell_type": "code",
   "execution_count": 68,
   "id": "limited-closure",
   "metadata": {},
   "outputs": [],
   "source": [
    "X = df[['Hours']]\n",
    "Y = df['Scores']"
   ]
  },
  {
   "cell_type": "code",
   "execution_count": 69,
   "id": "elect-opportunity",
   "metadata": {},
   "outputs": [],
   "source": [
    "from sklearn.model_selection import train_test_split\n",
    "X_train, X_test, Y_train, Y_test = train_test_split(X,Y, test_size = 0.3, random_state = 1)"
   ]
  },
  {
   "cell_type": "code",
   "execution_count": 70,
   "id": "saving-evanescence",
   "metadata": {},
   "outputs": [
    {
     "name": "stdout",
     "output_type": "stream",
     "text": [
      "    Hours\n",
      "4     3.5\n",
      "2     3.2\n",
      "20    2.7\n",
      "6     9.2\n",
      "7     5.5\n",
      "22    3.8\n",
      "1     5.1\n",
      "16    2.5\n",
      "0     2.5\n",
      "15    8.9\n",
      "24    7.8\n",
      "23    6.9\n",
      "9     2.7\n",
      "8     8.3\n",
      "12    4.5\n",
      "11    5.9\n",
      "5     1.5\n"
     ]
    }
   ],
   "source": [
    "print(X_train)"
   ]
  },
  {
   "cell_type": "code",
   "execution_count": 71,
   "id": "prostate-congress",
   "metadata": {},
   "outputs": [
    {
     "name": "stdout",
     "output_type": "stream",
     "text": [
      "4     30\n",
      "2     27\n",
      "20    30\n",
      "6     88\n",
      "7     60\n",
      "22    35\n",
      "1     47\n",
      "16    30\n",
      "0     21\n",
      "15    95\n",
      "24    86\n",
      "23    76\n",
      "9     25\n",
      "8     81\n",
      "12    41\n",
      "11    62\n",
      "5     20\n",
      "Name: Scores, dtype: int64\n"
     ]
    }
   ],
   "source": [
    "print(Y_train)"
   ]
  },
  {
   "cell_type": "code",
   "execution_count": 72,
   "id": "distinguished-folder",
   "metadata": {},
   "outputs": [
    {
     "name": "stdout",
     "output_type": "stream",
     "text": [
      "    Hours\n",
      "14    1.1\n",
      "13    3.3\n",
      "17    1.9\n",
      "3     8.5\n",
      "21    4.8\n",
      "10    7.7\n",
      "18    6.1\n",
      "19    7.4\n"
     ]
    }
   ],
   "source": [
    "print(X_test)\n"
   ]
  },
  {
   "cell_type": "code",
   "execution_count": 73,
   "id": "brave-destination",
   "metadata": {},
   "outputs": [
    {
     "name": "stdout",
     "output_type": "stream",
     "text": [
      "14    17\n",
      "13    42\n",
      "17    24\n",
      "3     75\n",
      "21    54\n",
      "10    85\n",
      "18    67\n",
      "19    69\n",
      "Name: Scores, dtype: int64\n"
     ]
    }
   ],
   "source": [
    "print(Y_test)"
   ]
  },
  {
   "cell_type": "markdown",
   "id": "positive-portrait",
   "metadata": {},
   "source": [
    "Training the Data (Liner Regression)"
   ]
  },
  {
   "cell_type": "code",
   "execution_count": 74,
   "id": "beginning-friendly",
   "metadata": {},
   "outputs": [
    {
     "data": {
      "text/plain": [
       "LinearRegression()"
      ]
     },
     "execution_count": 74,
     "metadata": {},
     "output_type": "execute_result"
    }
   ],
   "source": [
    "from sklearn.linear_model import LinearRegression\n",
    "dem = LinearRegression()\n",
    "dem.fit(X_train, Y_train)"
   ]
  },
  {
   "cell_type": "code",
   "execution_count": 75,
   "id": "responsible-router",
   "metadata": {},
   "outputs": [
    {
     "name": "stdout",
     "output_type": "stream",
     "text": [
      "    Hours\n",
      "14    1.1\n",
      "13    3.3\n",
      "17    1.9\n",
      "3     8.5\n",
      "21    4.8\n",
      "10    7.7\n",
      "18    6.1\n",
      "19    7.4\n"
     ]
    }
   ],
   "source": [
    "print(X_test)\n",
    "y_pred = dem.predict(X_test) # Predicting the scores"
   ]
  },
  {
   "cell_type": "code",
   "execution_count": 76,
   "id": "spread-chinese",
   "metadata": {},
   "outputs": [],
   "source": [
    "#ForTrainingSet"
   ]
  },
  {
   "cell_type": "code",
   "execution_count": 77,
   "id": "humanitarian-schema",
   "metadata": {},
   "outputs": [
    {
     "data": {
      "image/png": "[encoded data removed]",
      "text/plain": [
       "<Figure size 432x288 with 1 Axes>"
      ]
     },
     "metadata": {
      "needs_background": "light"
     },
     "output_type": "display_data"
    }
   ],
   "source": [
    "plt.scatter(X_train, Y_train, color = 'red')\n",
    "plt.plot(X_train, dem.predict(X_train), color = 'green')\n",
    "plt.title('Hours vs Scores')\n",
    "plt.xlabel('HOURS')\n",
    "plt.ylabel('SCORES')\n",
    "plt.show()"
   ]
  },
  {
   "cell_type": "code",
   "execution_count": 78,
   "id": "painful-crystal",
   "metadata": {},
   "outputs": [],
   "source": [
    "#ForTestSet"
   ]
  },
  {
   "cell_type": "code",
   "execution_count": 79,
   "id": "informational-daisy",
   "metadata": {},
   "outputs": [
    {
     "data": {
      "image/png": "[encoded data removed]",
      "text/plain": [
       "<Figure size 432x288 with 1 Axes>"
      ]
     },
     "metadata": {
      "needs_background": "light"
     },
     "output_type": "display_data"
    }
   ],
   "source": [
    "plt.scatter(X_test, Y_test, color = 'red')\n",
    "plt.plot(X_test, dem.predict(X_test), color = 'green')\n",
    "plt.title('Hours vs Scores ')\n",
    "plt.xlabel('Hours')\n",
    "plt.ylabel('Scores')\n",
    "plt.show()"
   ]
  },
  {
   "cell_type": "code",
   "execution_count": 80,
   "id": "developing-making",
   "metadata": {},
   "outputs": [
    {
     "name": "stdout",
     "output_type": "stream",
     "text": [
      "If student studies for 9.25 hours per day, he/she will score [94.78722213] percentage in the exam.\n"
     ]
    }
   ],
   "source": [
    "hours=9.25\n",
    "score_predict=dem.predict([[hours]])\n",
    "print('If student studies for {} hours per day, he/she will score {} percentage in the exam.'.format(hours,score_predict))"
   ]
  },
  {
   "cell_type": "markdown",
   "id": "artistic-location",
   "metadata": {},
   "source": [
    "#Evaluation of our Model"
   ]
  },
  {
   "cell_type": "code",
   "execution_count": 81,
   "id": "trained-intranet",
   "metadata": {},
   "outputs": [
    {
     "name": "stdout",
     "output_type": "stream",
     "text": [
      "Accuracy Score =  0.8933827573294114\n",
      "Mean Absolute Error =  7.169048271425507\n"
     ]
    }
   ],
   "source": [
    "from sklearn import metrics\n",
    "from sklearn.metrics import r2_score\n",
    "Accuracy = r2_score(Y_test, y_pred)\n",
    "print('Accuracy Score = ', Accuracy)\n",
    "m = metrics.mean_absolute_error(Y_test, y_pred)\n",
    "print('Mean Absolute Error = ', m)"
   ]
  },
  {
   "cell_type": "code",
   "execution_count": null,
   "id": "chicken-behavior",
   "metadata": {},
   "outputs": [],
   "source": []
  }
 ],
 "metadata": {
  "kernelspec": {
   "display_name": "Python 3",
   "language": "python",
   "name": "python3"
  },
  "language_info": {
   "codemirror_mode": {
    "name": "ipython",
    "version": 3
   },
   "file_extension": ".py",
   "mimetype": "text/x-python",
   "name": "python",
   "nbconvert_exporter": "python",
   "pygments_lexer": "ipython3",
   "version": "3.8.8"
  }
 },
 "nbformat": 4,
 "nbformat_minor": 5
}
